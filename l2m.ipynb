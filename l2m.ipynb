{
 "cells": [
  {
   "cell_type": "markdown",
   "metadata": {},
   "source": [
    "# NBA Last Two Minute Reports\n",
    "\n",
    "To increase transparency into officiating, the NBA began to publish reports that contain a breakdown of calls in the last two minutes of close games. Beginning on March 1, 2015, these reports detail all calls and notable non-calls in games that had a point differential of three or fewer at any time in the last two minutes. [This site](https://official.nba.com/2019-20-nba-officiating-last-two-minute-reports/) describes the process in more detail along with reports from this season and archived reports.\n",
    "\n",
    "The goal of this notebook is to explore the reports and use data visualization to further enhance the takeaways from the data available on the website linked above."
   ]
  },
  {
   "cell_type": "code",
   "execution_count": 1,
   "metadata": {},
   "outputs": [],
   "source": [
    "import numpy as np\n",
    "import pandas as pd\n",
    "import matplotlib.pyplot as plt\n",
    "from matplotlib.patches import Arc\n",
    "import itertools\n",
    "from datetime import datetime, timedelta\n",
    "\n",
    "from PIL import Image\n",
    "import PIL.ImageOps    \n",
    "import time\n",
    "from IPython.display import IFrame\n",
    "\n",
    "from py_ball import image, boxscore, scoreboard\n",
    "\n",
    "HEADERS = {'Connection': 'keep-alive',\n",
    "           'Host': 'stats.nba.com',\n",
    "           'Origin': 'http://stats.nba.com',\n",
    "           'Upgrade-Insecure-Requests': '1',\n",
    "           'Referer': 'stats.nba.com',\n",
    "           'x-nba-stats-origin': 'stats',\n",
    "           'x-nba-stats-token': 'true',\n",
    "           'Accept-Language': 'en-US,en;q=0.9',\n",
    "           \"X-NewRelic-ID\": \"VQECWF5UChAHUlNTBwgBVw==\",\n",
    "           'User-Agent': 'Mozilla/5.0 (Macintosh; Intel Mac OS X 10_14_6)' +\\\n",
    "                         ' AppleWebKit/537.36 (KHTML, like Gecko)' + \\\n",
    "                         ' Chrome/81.0.4044.129 Safari/537.36'}\n",
    "\n",
    "TEAM_TO_ID_NBA = {'TOR': '1610612761', 'DEN': '1610612743',\n",
    "                  'DET': '1610612765', 'NOP': '1610612740',\n",
    "                  'MIL': '1610612749', 'GSW': '1610612744',\n",
    "                  'SAS': '1610612759', 'POR': '1610612757',\n",
    "                  'LAC': '1610612746', 'DAL': '1610612742',\n",
    "                  'MEM': '1610612763', 'PHI': '1610612755',\n",
    "                  'BOS': '1610612738', 'MIN': '1610612750',\n",
    "                  'CHA': '1610612766', 'IND': '1610612754',\n",
    "                  'ORL': '1610612753', 'MIA': '1610612748',\n",
    "                  'HOU': '1610612745', 'SAC': '1610612758',\n",
    "                  'UTA': '1610612762', 'BKN': '1610612751',\n",
    "                  'ATL': '1610612737', 'PHX': '1610612756',\n",
    "                  'WAS': '1610612764', 'NYK': '1610612752',\n",
    "                  'OKC': '1610612760', 'LAL': '1610612747',\n",
    "                  'CLE': '1610612739', 'CHI': '1610612741'}\n",
    "\n",
    "pd.options.mode.chained_assignment = None  # Disabling pandas SetWithCopyWarnings"
   ]
  },
  {
   "cell_type": "markdown",
   "metadata": {},
   "source": [
    "Let's read in the report data and do some exploration. These data were sourced from the above official's last-two-minute site that contains each qualifying play this season."
   ]
  },
  {
   "cell_type": "code",
   "execution_count": 2,
   "metadata": {},
   "outputs": [
    {
     "data": {
      "text/html": [
       "<div>\n",
       "<style scoped>\n",
       "    .dataframe tbody tr th:only-of-type {\n",
       "        vertical-align: middle;\n",
       "    }\n",
       "\n",
       "    .dataframe tbody tr th {\n",
       "        vertical-align: top;\n",
       "    }\n",
       "\n",
       "    .dataframe thead th {\n",
       "        text-align: right;\n",
       "    }\n",
       "</style>\n",
       "<table border=\"1\" class=\"dataframe\">\n",
       "  <thead>\n",
       "    <tr style=\"text-align: right;\">\n",
       "      <th></th>\n",
       "      <th>Period</th>\n",
       "      <th>Time</th>\n",
       "      <th>Call Type</th>\n",
       "      <th>Committing Player</th>\n",
       "      <th>Disadvantaged Player</th>\n",
       "      <th>Review Decision</th>\n",
       "      <th>Video</th>\n",
       "      <th>Comment</th>\n",
       "      <th>game_id</th>\n",
       "    </tr>\n",
       "  </thead>\n",
       "  <tbody>\n",
       "    <tr>\n",
       "      <td>0</td>\n",
       "      <td>Q4</td>\n",
       "      <td>01:53.3</td>\n",
       "      <td>Foul: Offensive</td>\n",
       "      <td>OG Anunoby</td>\n",
       "      <td>Brandon Ingram</td>\n",
       "      <td>CNC</td>\n",
       "      <td>http://official.nba.com/last-two-minute-report...</td>\n",
       "      <td>Anunoby (TOR) firms up in a legal screening po...</td>\n",
       "      <td>21900001</td>\n",
       "    </tr>\n",
       "    <tr>\n",
       "      <td>1</td>\n",
       "      <td>Q4</td>\n",
       "      <td>1:44</td>\n",
       "      <td>Foul: Offensive</td>\n",
       "      <td>Serge Ibaka</td>\n",
       "      <td>Nicolo Melli</td>\n",
       "      <td>CNC</td>\n",
       "      <td>http://official.nba.com/last-two-minute-report...</td>\n",
       "      <td>Ibaka (TOR) makes marginal contact with Melli ...</td>\n",
       "      <td>21900001</td>\n",
       "    </tr>\n",
       "    <tr>\n",
       "      <td>2</td>\n",
       "      <td>Q4</td>\n",
       "      <td>01:41.4</td>\n",
       "      <td>Foul: Shooting</td>\n",
       "      <td>JJ Redick</td>\n",
       "      <td>Kyle Lowry</td>\n",
       "      <td>CNC</td>\n",
       "      <td>http://official.nba.com/last-two-minute-report...</td>\n",
       "      <td>Redick (NOP) contests Lowry's (TOR) jump shot ...</td>\n",
       "      <td>21900001</td>\n",
       "    </tr>\n",
       "    <tr>\n",
       "      <td>3</td>\n",
       "      <td>Q4</td>\n",
       "      <td>01:34.5</td>\n",
       "      <td>Foul: Personal</td>\n",
       "      <td>Fred VanVleet</td>\n",
       "      <td>Brandon Ingram</td>\n",
       "      <td>CNC</td>\n",
       "      <td>http://official.nba.com/last-two-minute-report...</td>\n",
       "      <td>VanVleet (TOR) maintains a legal guarding posi...</td>\n",
       "      <td>21900001</td>\n",
       "    </tr>\n",
       "    <tr>\n",
       "      <td>4</td>\n",
       "      <td>Q4</td>\n",
       "      <td>01:09.6</td>\n",
       "      <td>Foul: Personal</td>\n",
       "      <td>Fred VanVleet</td>\n",
       "      <td>Brandon Ingram</td>\n",
       "      <td>INC</td>\n",
       "      <td>http://official.nba.com/last-two-minute-report...</td>\n",
       "      <td>VanVleet (TOR) is late to establish himself in...</td>\n",
       "      <td>21900001</td>\n",
       "    </tr>\n",
       "  </tbody>\n",
       "</table>\n",
       "</div>"
      ],
      "text/plain": [
       "  Period     Time        Call Type Committing Player Disadvantaged Player  \\\n",
       "0     Q4  01:53.3  Foul: Offensive        OG Anunoby       Brandon Ingram   \n",
       "1     Q4     1:44  Foul: Offensive       Serge Ibaka         Nicolo Melli   \n",
       "2     Q4  01:41.4   Foul: Shooting         JJ Redick           Kyle Lowry   \n",
       "3     Q4  01:34.5   Foul: Personal     Fred VanVleet       Brandon Ingram   \n",
       "4     Q4  01:09.6   Foul: Personal     Fred VanVleet       Brandon Ingram   \n",
       "\n",
       "  Review Decision                                              Video  \\\n",
       "0             CNC  http://official.nba.com/last-two-minute-report...   \n",
       "1             CNC  http://official.nba.com/last-two-minute-report...   \n",
       "2             CNC  http://official.nba.com/last-two-minute-report...   \n",
       "3             CNC  http://official.nba.com/last-two-minute-report...   \n",
       "4             INC  http://official.nba.com/last-two-minute-report...   \n",
       "\n",
       "                                             Comment   game_id  \n",
       "0  Anunoby (TOR) firms up in a legal screening po...  21900001  \n",
       "1  Ibaka (TOR) makes marginal contact with Melli ...  21900001  \n",
       "2  Redick (NOP) contests Lowry's (TOR) jump shot ...  21900001  \n",
       "3  VanVleet (TOR) maintains a legal guarding posi...  21900001  \n",
       "4  VanVleet (TOR) is late to establish himself in...  21900001  "
      ]
     },
     "execution_count": 2,
     "metadata": {},
     "output_type": "execute_result"
    }
   ],
   "source": [
    "l2m_2019 = pd.read_csv('l2m.csv')\n",
    "l2m_2019.head()"
   ]
  },
  {
   "cell_type": "markdown",
   "metadata": {},
   "source": [
    "And here's the data from the 2018 regular season after the All Star break."
   ]
  },
  {
   "cell_type": "code",
   "execution_count": 3,
   "metadata": {},
   "outputs": [
    {
     "data": {
      "text/html": [
       "<div>\n",
       "<style scoped>\n",
       "    .dataframe tbody tr th:only-of-type {\n",
       "        vertical-align: middle;\n",
       "    }\n",
       "\n",
       "    .dataframe tbody tr th {\n",
       "        vertical-align: top;\n",
       "    }\n",
       "\n",
       "    .dataframe thead th {\n",
       "        text-align: right;\n",
       "    }\n",
       "</style>\n",
       "<table border=\"1\" class=\"dataframe\">\n",
       "  <thead>\n",
       "    <tr style=\"text-align: right;\">\n",
       "      <th></th>\n",
       "      <th>Period</th>\n",
       "      <th>Time</th>\n",
       "      <th>Call Type</th>\n",
       "      <th>Committing Player</th>\n",
       "      <th>Disadvantaged Player</th>\n",
       "      <th>Review Decision</th>\n",
       "      <th>Video</th>\n",
       "      <th>Comment</th>\n",
       "      <th>game_id</th>\n",
       "    </tr>\n",
       "  </thead>\n",
       "  <tbody>\n",
       "    <tr>\n",
       "      <td>0</td>\n",
       "      <td>Q4</td>\n",
       "      <td>01:58.0</td>\n",
       "      <td>Foul: Shooting</td>\n",
       "      <td>JJ Redick</td>\n",
       "      <td>Dwyane Wade</td>\n",
       "      <td>CNC</td>\n",
       "      <td>http://official.nba.com/last-two-minute-report...</td>\n",
       "      <td>Redick (PHI) makes marginal contact to the bod...</td>\n",
       "      <td>21800868</td>\n",
       "    </tr>\n",
       "    <tr>\n",
       "      <td>1</td>\n",
       "      <td>Q4</td>\n",
       "      <td>01:45.6</td>\n",
       "      <td>Foul: Personal</td>\n",
       "      <td>Dion Waiters</td>\n",
       "      <td>Jimmy Butler</td>\n",
       "      <td>CNC</td>\n",
       "      <td>http://official.nba.com/last-two-minute-report...</td>\n",
       "      <td>Waiters (MIA) briefly engages with Butler (PHI...</td>\n",
       "      <td>21800868</td>\n",
       "    </tr>\n",
       "    <tr>\n",
       "      <td>2</td>\n",
       "      <td>Q4</td>\n",
       "      <td>01:43.0</td>\n",
       "      <td>Turnover: Traveling</td>\n",
       "      <td>Ben Simmons</td>\n",
       "      <td></td>\n",
       "      <td>CNC</td>\n",
       "      <td>http://official.nba.com/last-two-minute-report...</td>\n",
       "      <td>B. Simmons (PHI) maintains his pivot foot on t...</td>\n",
       "      <td>21800868</td>\n",
       "    </tr>\n",
       "    <tr>\n",
       "      <td>3</td>\n",
       "      <td>Q4</td>\n",
       "      <td>01:40.5</td>\n",
       "      <td>Foul: Offensive</td>\n",
       "      <td>Boban Marjanovic</td>\n",
       "      <td>Dion Waiters</td>\n",
       "      <td>CNC</td>\n",
       "      <td>http://official.nba.com/last-two-minute-report...</td>\n",
       "      <td>Marjanovic (PHI) makes marginal contact with W...</td>\n",
       "      <td>21800868</td>\n",
       "    </tr>\n",
       "    <tr>\n",
       "      <td>4</td>\n",
       "      <td>Q4</td>\n",
       "      <td>01:36.2</td>\n",
       "      <td>Foul: Shooting</td>\n",
       "      <td>Justise Winslow</td>\n",
       "      <td>Boban Marjanovic</td>\n",
       "      <td>CC</td>\n",
       "      <td>http://official.nba.com/last-two-minute-report...</td>\n",
       "      <td>Winslow (MIA) makes contact to the arm of Marj...</td>\n",
       "      <td>21800868</td>\n",
       "    </tr>\n",
       "  </tbody>\n",
       "</table>\n",
       "</div>"
      ],
      "text/plain": [
       "  Period     Time            Call Type Committing Player Disadvantaged Player  \\\n",
       "0     Q4  01:58.0       Foul: Shooting         JJ Redick          Dwyane Wade   \n",
       "1     Q4  01:45.6       Foul: Personal      Dion Waiters         Jimmy Butler   \n",
       "2     Q4  01:43.0  Turnover: Traveling       Ben Simmons                        \n",
       "3     Q4  01:40.5      Foul: Offensive  Boban Marjanovic         Dion Waiters   \n",
       "4     Q4  01:36.2       Foul: Shooting   Justise Winslow     Boban Marjanovic   \n",
       "\n",
       "  Review Decision                                              Video  \\\n",
       "0             CNC  http://official.nba.com/last-two-minute-report...   \n",
       "1             CNC  http://official.nba.com/last-two-minute-report...   \n",
       "2             CNC  http://official.nba.com/last-two-minute-report...   \n",
       "3             CNC  http://official.nba.com/last-two-minute-report...   \n",
       "4              CC  http://official.nba.com/last-two-minute-report...   \n",
       "\n",
       "                                             Comment   game_id  \n",
       "0  Redick (PHI) makes marginal contact to the bod...  21800868  \n",
       "1  Waiters (MIA) briefly engages with Butler (PHI...  21800868  \n",
       "2  B. Simmons (PHI) maintains his pivot foot on t...  21800868  \n",
       "3  Marjanovic (PHI) makes marginal contact with W...  21800868  \n",
       "4  Winslow (MIA) makes contact to the arm of Marj...  21800868  "
      ]
     },
     "execution_count": 3,
     "metadata": {},
     "output_type": "execute_result"
    }
   ],
   "source": [
    "l2m_2018 = pd.read_csv('l2m_2018.csv')\n",
    "l2m_2018.head()"
   ]
  },
  {
   "cell_type": "markdown",
   "metadata": {},
   "source": [
    "To bolster the sample, we can combine these datasets."
   ]
  },
  {
   "cell_type": "code",
   "execution_count": 4,
   "metadata": {},
   "outputs": [],
   "source": [
    "l2m_df = pd.concat([l2m_2018, l2m_2019], axis=0)"
   ]
  },
  {
   "cell_type": "code",
   "execution_count": 5,
   "metadata": {},
   "outputs": [
    {
     "data": {
      "text/html": [
       "<div>\n",
       "<style scoped>\n",
       "    .dataframe tbody tr th:only-of-type {\n",
       "        vertical-align: middle;\n",
       "    }\n",
       "\n",
       "    .dataframe tbody tr th {\n",
       "        vertical-align: top;\n",
       "    }\n",
       "\n",
       "    .dataframe thead th {\n",
       "        text-align: right;\n",
       "    }\n",
       "</style>\n",
       "<table border=\"1\" class=\"dataframe\">\n",
       "  <thead>\n",
       "    <tr style=\"text-align: right;\">\n",
       "      <th></th>\n",
       "      <th>Period</th>\n",
       "      <th>Time</th>\n",
       "      <th>Call Type</th>\n",
       "      <th>Committing Player</th>\n",
       "      <th>Disadvantaged Player</th>\n",
       "      <th>Review Decision</th>\n",
       "      <th>Video</th>\n",
       "      <th>Comment</th>\n",
       "      <th>game_id</th>\n",
       "    </tr>\n",
       "  </thead>\n",
       "  <tbody>\n",
       "    <tr>\n",
       "      <td>0</td>\n",
       "      <td>Q4</td>\n",
       "      <td>01:58.0</td>\n",
       "      <td>Foul: Shooting</td>\n",
       "      <td>JJ Redick</td>\n",
       "      <td>Dwyane Wade</td>\n",
       "      <td>CNC</td>\n",
       "      <td>http://official.nba.com/last-two-minute-report...</td>\n",
       "      <td>Redick (PHI) makes marginal contact to the bod...</td>\n",
       "      <td>21800868</td>\n",
       "    </tr>\n",
       "    <tr>\n",
       "      <td>1</td>\n",
       "      <td>Q4</td>\n",
       "      <td>01:45.6</td>\n",
       "      <td>Foul: Personal</td>\n",
       "      <td>Dion Waiters</td>\n",
       "      <td>Jimmy Butler</td>\n",
       "      <td>CNC</td>\n",
       "      <td>http://official.nba.com/last-two-minute-report...</td>\n",
       "      <td>Waiters (MIA) briefly engages with Butler (PHI...</td>\n",
       "      <td>21800868</td>\n",
       "    </tr>\n",
       "    <tr>\n",
       "      <td>2</td>\n",
       "      <td>Q4</td>\n",
       "      <td>01:43.0</td>\n",
       "      <td>Turnover: Traveling</td>\n",
       "      <td>Ben Simmons</td>\n",
       "      <td></td>\n",
       "      <td>CNC</td>\n",
       "      <td>http://official.nba.com/last-two-minute-report...</td>\n",
       "      <td>B. Simmons (PHI) maintains his pivot foot on t...</td>\n",
       "      <td>21800868</td>\n",
       "    </tr>\n",
       "    <tr>\n",
       "      <td>3</td>\n",
       "      <td>Q4</td>\n",
       "      <td>01:40.5</td>\n",
       "      <td>Foul: Offensive</td>\n",
       "      <td>Boban Marjanovic</td>\n",
       "      <td>Dion Waiters</td>\n",
       "      <td>CNC</td>\n",
       "      <td>http://official.nba.com/last-two-minute-report...</td>\n",
       "      <td>Marjanovic (PHI) makes marginal contact with W...</td>\n",
       "      <td>21800868</td>\n",
       "    </tr>\n",
       "    <tr>\n",
       "      <td>4</td>\n",
       "      <td>Q4</td>\n",
       "      <td>01:36.2</td>\n",
       "      <td>Foul: Shooting</td>\n",
       "      <td>Justise Winslow</td>\n",
       "      <td>Boban Marjanovic</td>\n",
       "      <td>CC</td>\n",
       "      <td>http://official.nba.com/last-two-minute-report...</td>\n",
       "      <td>Winslow (MIA) makes contact to the arm of Marj...</td>\n",
       "      <td>21800868</td>\n",
       "    </tr>\n",
       "    <tr>\n",
       "      <td>...</td>\n",
       "      <td>...</td>\n",
       "      <td>...</td>\n",
       "      <td>...</td>\n",
       "      <td>...</td>\n",
       "      <td>...</td>\n",
       "      <td>...</td>\n",
       "      <td>...</td>\n",
       "      <td>...</td>\n",
       "      <td>...</td>\n",
       "    </tr>\n",
       "    <tr>\n",
       "      <td>7542</td>\n",
       "      <td>Q5</td>\n",
       "      <td>00:06.7</td>\n",
       "      <td>Foul: Loose Ball</td>\n",
       "      <td>Amir Coffey</td>\n",
       "      <td>Devon Hall</td>\n",
       "      <td>CC</td>\n",
       "      <td>http://official.nba.com/last-two-minute-report...</td>\n",
       "      <td>Coffey (LAC) initiates contact across Hall's (...</td>\n",
       "      <td>21901317</td>\n",
       "    </tr>\n",
       "    <tr>\n",
       "      <td>7543</td>\n",
       "      <td>Q5</td>\n",
       "      <td>00:06.6</td>\n",
       "      <td>Foul: Loose Ball</td>\n",
       "      <td>Patrick Patterson</td>\n",
       "      <td>Hamidou Diallo</td>\n",
       "      <td>CNC</td>\n",
       "      <td>http://official.nba.com/last-two-minute-report...</td>\n",
       "      <td>Patterson (LAC) makes marginal contact with Di...</td>\n",
       "      <td>21901317</td>\n",
       "    </tr>\n",
       "    <tr>\n",
       "      <td>7544</td>\n",
       "      <td>Q5</td>\n",
       "      <td>00:05.3</td>\n",
       "      <td>Turnover: 5 Second Violation</td>\n",
       "      <td>Clippers</td>\n",
       "      <td>Thunder</td>\n",
       "      <td>CNC</td>\n",
       "      <td>http://official.nba.com/last-two-minute-report...</td>\n",
       "      <td>Mann (LAC) inbounds the ball within five seconds.</td>\n",
       "      <td>21901317</td>\n",
       "    </tr>\n",
       "    <tr>\n",
       "      <td>7545</td>\n",
       "      <td>Q5</td>\n",
       "      <td>00:05.3</td>\n",
       "      <td>Foul: Offensive</td>\n",
       "      <td>Patrick Patterson</td>\n",
       "      <td>Darius Bazley</td>\n",
       "      <td>CNC</td>\n",
       "      <td>http://official.nba.com/last-two-minute-report...</td>\n",
       "      <td>Patterson (LAC) rests his hand against Bazley'...</td>\n",
       "      <td>21901317</td>\n",
       "    </tr>\n",
       "    <tr>\n",
       "      <td>7546</td>\n",
       "      <td>Q5</td>\n",
       "      <td>00:03.5</td>\n",
       "      <td>Foul: Personal</td>\n",
       "      <td>Hamidou Diallo</td>\n",
       "      <td>Patrick Patterson</td>\n",
       "      <td>CC</td>\n",
       "      <td>http://official.nba.com/last-two-minute-report...</td>\n",
       "      <td>Diallo (OKC) commits the take foul on Patterso...</td>\n",
       "      <td>21901317</td>\n",
       "    </tr>\n",
       "  </tbody>\n",
       "</table>\n",
       "<p>10499 rows × 9 columns</p>\n",
       "</div>"
      ],
      "text/plain": [
       "     Period     Time                     Call Type  Committing Player  \\\n",
       "0        Q4  01:58.0                Foul: Shooting          JJ Redick   \n",
       "1        Q4  01:45.6                Foul: Personal       Dion Waiters   \n",
       "2        Q4  01:43.0           Turnover: Traveling        Ben Simmons   \n",
       "3        Q4  01:40.5               Foul: Offensive   Boban Marjanovic   \n",
       "4        Q4  01:36.2                Foul: Shooting    Justise Winslow   \n",
       "...     ...      ...                           ...                ...   \n",
       "7542     Q5  00:06.7              Foul: Loose Ball        Amir Coffey   \n",
       "7543     Q5  00:06.6              Foul: Loose Ball  Patrick Patterson   \n",
       "7544     Q5  00:05.3  Turnover: 5 Second Violation           Clippers   \n",
       "7545     Q5  00:05.3               Foul: Offensive  Patrick Patterson   \n",
       "7546     Q5  00:03.5                Foul: Personal     Hamidou Diallo   \n",
       "\n",
       "     Disadvantaged Player Review Decision  \\\n",
       "0             Dwyane Wade             CNC   \n",
       "1            Jimmy Butler             CNC   \n",
       "2                                     CNC   \n",
       "3            Dion Waiters             CNC   \n",
       "4        Boban Marjanovic              CC   \n",
       "...                   ...             ...   \n",
       "7542           Devon Hall              CC   \n",
       "7543       Hamidou Diallo             CNC   \n",
       "7544              Thunder             CNC   \n",
       "7545        Darius Bazley             CNC   \n",
       "7546    Patrick Patterson              CC   \n",
       "\n",
       "                                                  Video  \\\n",
       "0     http://official.nba.com/last-two-minute-report...   \n",
       "1     http://official.nba.com/last-two-minute-report...   \n",
       "2     http://official.nba.com/last-two-minute-report...   \n",
       "3     http://official.nba.com/last-two-minute-report...   \n",
       "4     http://official.nba.com/last-two-minute-report...   \n",
       "...                                                 ...   \n",
       "7542  http://official.nba.com/last-two-minute-report...   \n",
       "7543  http://official.nba.com/last-two-minute-report...   \n",
       "7544  http://official.nba.com/last-two-minute-report...   \n",
       "7545  http://official.nba.com/last-two-minute-report...   \n",
       "7546  http://official.nba.com/last-two-minute-report...   \n",
       "\n",
       "                                                Comment   game_id  \n",
       "0     Redick (PHI) makes marginal contact to the bod...  21800868  \n",
       "1     Waiters (MIA) briefly engages with Butler (PHI...  21800868  \n",
       "2     B. Simmons (PHI) maintains his pivot foot on t...  21800868  \n",
       "3     Marjanovic (PHI) makes marginal contact with W...  21800868  \n",
       "4     Winslow (MIA) makes contact to the arm of Marj...  21800868  \n",
       "...                                                 ...       ...  \n",
       "7542  Coffey (LAC) initiates contact across Hall's (...  21901317  \n",
       "7543  Patterson (LAC) makes marginal contact with Di...  21901317  \n",
       "7544  Mann (LAC) inbounds the ball within five seconds.  21901317  \n",
       "7545  Patterson (LAC) rests his hand against Bazley'...  21901317  \n",
       "7546  Diallo (OKC) commits the take foul on Patterso...  21901317  \n",
       "\n",
       "[10499 rows x 9 columns]"
      ]
     },
     "execution_count": 5,
     "metadata": {},
     "output_type": "execute_result"
    }
   ],
   "source": [
    "l2m_df"
   ]
  },
  {
   "cell_type": "code",
   "execution_count": 6,
   "metadata": {},
   "outputs": [
    {
     "data": {
      "text/plain": [
       "[nan,\n",
       " 'Foul: Offensive Charge',\n",
       " 'Turnover: 3 Second Violation',\n",
       " 'Turnover: Backcourt Turnover',\n",
       " 'Violation: Double Lane',\n",
       " 'Instant Replay: Overturn Ruling',\n",
       " 'Turnover: Offensive Goaltending',\n",
       " 'Foul: Delay Technical',\n",
       " 'Stoppage: Out-of-Bounds',\n",
       " 'Turnover: Bad Pass',\n",
       " 'Violation: Lane',\n",
       " 'Turnover: Double Dribble',\n",
       " 'Turnover: Discontinue Dribble',\n",
       " 'Turnover: Traveling',\n",
       " 'Foul: Flagrant Type 1',\n",
       " 'Foul: Personal Block',\n",
       " 'Foul: Personal',\n",
       " 'Turnover: Kicked Ball Violation',\n",
       " 'Turnover: 10 Second Violation',\n",
       " 'Turnover:  Out of Bounds - Bad Pass Turn',\n",
       " 'Turnover: Illegal Screen',\n",
       " 'Turnover: Palming',\n",
       " 'Foul: Loose Ball',\n",
       " 'Foul: Double Technical',\n",
       " 'Foul: Technical',\n",
       " 'Turnover: Lost Ball Out of Bounds',\n",
       " 'Violation: Defensive Goaltending',\n",
       " 'Foul: Personal Take',\n",
       " 'Turnover: Inbound Turnover',\n",
       " 'Foul: Clear Path',\n",
       " 'Turnover: Out of Bounds',\n",
       " 'Turnover: Lane Violation',\n",
       " 'Turnover: 5 Second Inbound',\n",
       " 'Violation: Jump Ball',\n",
       " 'Violation: Delay of Game',\n",
       " 'Instant Replay: Support Ruling',\n",
       " 'Turnover: Foul',\n",
       " 'Foul: Away from Play',\n",
       " 'Foul: Shooting',\n",
       " 'Turnover: 5 Second Violation',\n",
       " 'Turnover: 24 Second Violation',\n",
       " 'Turnover: Lost Ball Possession',\n",
       " 'Turnover: Stepped out of Bounds',\n",
       " 'Foul: Offensive',\n",
       " 'Turnover: Jump Ball Violation',\n",
       " 'Foul: Defense 3 Second',\n",
       " 'Violation: Kicked Ball',\n",
       " 'Turnover: 8 Second Violation']"
      ]
     },
     "execution_count": 6,
     "metadata": {},
     "output_type": "execute_result"
    }
   ],
   "source": [
    "list(set(l2m_df['Call Type']))"
   ]
  },
  {
   "cell_type": "markdown",
   "metadata": {},
   "source": [
    "There are many types of calls that get reviewed in these reports, which belong to 5 classes:\n",
    "- Foul\n",
    "- Turnover\n",
    "- Violation\n",
    "- Instant Replay\n",
    "- Stoppage\n",
    "\n",
    "We can store these classes in a feature, `Call Class`."
   ]
  },
  {
   "cell_type": "code",
   "execution_count": 7,
   "metadata": {},
   "outputs": [],
   "source": [
    "l2m_df['Call Class'] = ['None' if pd.isnull(x) else\n",
    "                        'Foul' if 'Foul:' in x else\n",
    "                        'Turnover' if 'Turnover:' in x else\n",
    "                        'Violation' if 'Violation:' in x else\n",
    "                        'Instant Replay' if 'Instant Replay:' in x else\n",
    "                        'Stoppage' for x in l2m_df['Call Type']]"
   ]
  },
  {
   "cell_type": "code",
   "execution_count": 8,
   "metadata": {},
   "outputs": [
    {
     "data": {
      "text/plain": [
       "Call Class\n",
       "Foul              9622\n",
       "Instant Replay      19\n",
       "None                15\n",
       "Stoppage            13\n",
       "Turnover           722\n",
       "Violation          108\n",
       "Name: Call Class, dtype: int64"
      ]
     },
     "execution_count": 8,
     "metadata": {},
     "output_type": "execute_result"
    }
   ],
   "source": [
    "l2m_df.groupby('Call Class')['Call Class'].count()"
   ]
  },
  {
   "cell_type": "markdown",
   "metadata": {},
   "source": [
    "The vast majority of calls reviewed in the Last Two Minute reports involve foul calls or non-calls, followed by turnovers. The rest of the classifications are relatively rare. \n",
    "\n",
    "The NBA also abbreviates common plays with the following definitions:\n",
    "- SQBR - Speed, Quickness, Balance, Rhythm\n",
    "- POC - Point of Contact\n",
    "- OOB - Out of Bounds\n",
    "- FOM - Freedom of Movement\n",
    "\n",
    "Let's extract these into a `Play Class` feature."
   ]
  },
  {
   "cell_type": "code",
   "execution_count": 9,
   "metadata": {},
   "outputs": [],
   "source": [
    "l2m_df['Play Class'] = ['None' if pd.isnull(x) else\n",
    "                        'SQBR' if 'SQBR' in x else\n",
    "                        'POC' if 'POC' in x else\n",
    "                        'OOB' if 'OOB' in x else\n",
    "                        'FOM' if 'FOM' in x else\n",
    "                        'Other' for x in l2m_df['Comment']]"
   ]
  },
  {
   "cell_type": "code",
   "execution_count": 10,
   "metadata": {},
   "outputs": [
    {
     "data": {
      "text/plain": [
       "Play Class\n",
       "FOM       225\n",
       "None        1\n",
       "OOB         1\n",
       "Other    9753\n",
       "SQBR      519\n",
       "Name: Play Class, dtype: int64"
      ]
     },
     "execution_count": 10,
     "metadata": {},
     "output_type": "execute_result"
    }
   ],
   "source": [
    "l2m_df.groupby('Play Class')['Play Class'].count()"
   ]
  },
  {
   "cell_type": "markdown",
   "metadata": {},
   "source": [
    "Even though the NBA defines several common play types, only FOM and SQBR plays make it into the comments. Let's dive deeper on fouls, the most commonly reviewed play class.\n",
    "\n",
    "## Fouls"
   ]
  },
  {
   "cell_type": "code",
   "execution_count": 11,
   "metadata": {},
   "outputs": [
    {
     "data": {
      "text/plain": [
       "Call Type               Review Decision\n",
       "Foul: Away from Play    CC                   13\n",
       "                        CNC                 112\n",
       "                        INC                  20\n",
       "Foul: Clear Path        CC                    5\n",
       "Foul: Defense 3 Second                       18\n",
       "                        CNC                  86\n",
       "                        INC                  21\n",
       "Foul: Delay Technical   CC                    3\n",
       "Foul: Double Technical  CC                    4\n",
       "Foul: Flagrant Type 1   CC                    2\n",
       "Foul: Loose Ball        CC                   92\n",
       "                        CNC                 877\n",
       "                        IC                    5\n",
       "                        INC                  70\n",
       "Foul: Offensive                               3\n",
       "                        CC                   64\n",
       "                        CNC                2222\n",
       "                        IC                    9\n",
       "                        INC                  97\n",
       "Foul: Offensive Charge  CC                    1\n",
       "Foul: Personal                                2\n",
       "                        CC                 1021\n",
       "                        CNC                2116\n",
       "                        IC                   22\n",
       "                        INC                 117\n",
       "                        NCC                   1\n",
       "                        NCI                   1\n",
       "Foul: Personal Block    CNC                   1\n",
       "Foul: Personal Take     CC                   89\n",
       "                        INC                   1\n",
       "Foul: Shooting                                5\n",
       "                        CC                  482\n",
       "                        CNC                1821\n",
       "                        IC                   36\n",
       "                        INC                 165\n",
       "Foul: Technical         CC                   17\n",
       "                        INC                   1\n",
       "Name: Call Type, dtype: int64"
      ]
     },
     "execution_count": 11,
     "metadata": {},
     "output_type": "execute_result"
    }
   ],
   "source": [
    "foul_df = l2m_df[l2m_df['Call Class']=='Foul']\n",
    "foul_df.groupby(['Call Type', 'Review Decision'])['Call Type'].count()"
   ]
  },
  {
   "cell_type": "markdown",
   "metadata": {},
   "source": [
    "When a play is indirectly related to the outcome of a posssession or requires technical support, these are not classified as incorrectly officiated. These are indicated in the above breakdown by empty strings. For example, five potential shooting fouls met this criteria in the dataset. The other strings indicate:\n",
    "\n",
    "- `CC`: Correct call\n",
    "- `CNC`: Correct non-call\n",
    "- `IC`: Incorrect call\n",
    "- `INC`: Incorrect non-call\n",
    "\n",
    "There are two other strings in the above: `NCC` and `NCI`, which are likely just typos. Let's correct those and view the accuracy rate for called and non-called potential fouls."
   ]
  },
  {
   "cell_type": "code",
   "execution_count": 12,
   "metadata": {},
   "outputs": [],
   "source": [
    "foul_df['Review Decision'] = ['CNC' if x == 'NCC'\n",
    "                              else 'INC' if x == 'NCI'\n",
    "                              else x for x in foul_df['Review Decision']]"
   ]
  },
  {
   "cell_type": "code",
   "execution_count": 13,
   "metadata": {},
   "outputs": [
    {
     "data": {
      "text/html": [
       "<div>\n",
       "<style scoped>\n",
       "    .dataframe tbody tr th:only-of-type {\n",
       "        vertical-align: middle;\n",
       "    }\n",
       "\n",
       "    .dataframe tbody tr th {\n",
       "        vertical-align: top;\n",
       "    }\n",
       "\n",
       "    .dataframe thead th {\n",
       "        text-align: right;\n",
       "    }\n",
       "</style>\n",
       "<table border=\"1\" class=\"dataframe\">\n",
       "  <thead>\n",
       "    <tr style=\"text-align: right;\">\n",
       "      <th></th>\n",
       "      <th>Review Decision</th>\n",
       "      <th>count</th>\n",
       "    </tr>\n",
       "  </thead>\n",
       "  <tbody>\n",
       "    <tr>\n",
       "      <td>0</td>\n",
       "      <td></td>\n",
       "      <td>28</td>\n",
       "    </tr>\n",
       "    <tr>\n",
       "      <td>1</td>\n",
       "      <td>CC</td>\n",
       "      <td>1793</td>\n",
       "    </tr>\n",
       "    <tr>\n",
       "      <td>2</td>\n",
       "      <td>CNC</td>\n",
       "      <td>7236</td>\n",
       "    </tr>\n",
       "    <tr>\n",
       "      <td>3</td>\n",
       "      <td>IC</td>\n",
       "      <td>72</td>\n",
       "    </tr>\n",
       "    <tr>\n",
       "      <td>4</td>\n",
       "      <td>INC</td>\n",
       "      <td>493</td>\n",
       "    </tr>\n",
       "  </tbody>\n",
       "</table>\n",
       "</div>"
      ],
      "text/plain": [
       "  Review Decision  count\n",
       "0                     28\n",
       "1              CC   1793\n",
       "2             CNC   7236\n",
       "3              IC     72\n",
       "4             INC    493"
      ]
     },
     "execution_count": 13,
     "metadata": {},
     "output_type": "execute_result"
    }
   ],
   "source": [
    "type_df = pd.DataFrame(foul_df.groupby('Review Decision')['Review Decision'].aggregate(['count'])).reset_index()\n",
    "type_df"
   ]
  },
  {
   "cell_type": "code",
   "execution_count": 14,
   "metadata": {},
   "outputs": [],
   "source": [
    "call_accuracy = (type_df[type_df['Review Decision']=='CC']['count'].iloc[0] /\n",
    "    (type_df[type_df['Review Decision']=='CC']['count'].iloc[0] + type_df[type_df['Review Decision']=='IC']['count'].iloc[0]))\n",
    "call_count = type_df[type_df['Review Decision']=='CC']['count'].iloc[0]\n",
    "call_sum = type_df[type_df['Review Decision']=='IC']['count'].iloc[0] + call_count\n",
    "\n",
    "noncall_accuracy = (type_df[type_df['Review Decision']=='CNC']['count'].iloc[0] /\n",
    "    (type_df[type_df['Review Decision']=='CNC']['count'].iloc[0] + type_df[type_df['Review Decision']=='INC']['count'].iloc[0]))\n",
    "noncall_count = type_df[type_df['Review Decision']=='CNC']['count'].iloc[0]\n",
    "noncall_sum = type_df[type_df['Review Decision']=='INC']['count'].iloc[0] + noncall_count"
   ]
  },
  {
   "cell_type": "code",
   "execution_count": 22,
   "metadata": {},
   "outputs": [
    {
     "data": {
      "image/png": "[encoded data removed]",
      "text/plain": [
       "<Figure size 432x576 with 1 Axes>"
      ]
     },
     "metadata": {
      "needs_background": "light"
     },
     "output_type": "display_data"
    }
   ],
   "source": [
    "fig = plt.figure(figsize=(6, 8))\n",
    "\n",
    "axis = fig.add_axes()\n",
    "\n",
    "bar_width_po = 0.9\n",
    "bar_width_league = 0.45\n",
    "\n",
    "# Adjusting the vertical locations of the horizontal bars to match with the axis tick labels\n",
    "hort_locations = np.arange(2)\n",
    "#hort_locations = [x + bar_height_po/2 for x in vert_locations]\n",
    "\n",
    "axis = fig.add_axes()\n",
    "\n",
    "plt.bar(x=hort_locations,\n",
    "        height=[call_sum, noncall_sum], width=bar_width_po,\n",
    "        color='black', label = 'All Decisions')\n",
    "plt.bar(x=hort_locations,\n",
    "        height=[call_count, noncall_count], width=bar_width_league,\n",
    "        color='lightgray', label = 'Correct Decisions')\n",
    "\n",
    "count = 0\n",
    "for perc, chal in zip([call_accuracy, noncall_accuracy], [call_sum, noncall_sum]):\n",
    "    plt.text(count-0.1, chal + 0.1, str(round(perc*100)) + '%')\n",
    "    count += 1\n",
    "\n",
    "plt.xticks(range(0, 2),\n",
    "           ['Calls', 'Non-Calls'],\n",
    "           rotation=0, fontsize=14)\n",
    "\n",
    "# plt.yticks(np.arange(0, max([call_sum, noncall_sum]) + 1, step=5))\n",
    "# for x in np.arange(0, max([call_sum, noncall_sum]) + 1, step=10):\n",
    "#     plt.axhline(x, linestyle='--', color='gray')\n",
    "plt.title(\"NBA Last Two Minute Potential Fouls\", fontsize=16)\n",
    "plt.legend(loc='upper left')\n",
    "plt.show()"
   ]
  },
  {
   "cell_type": "markdown",
   "metadata": {},
   "source": [
    "This visualization is hard to believe, but a look into what constitutes a play being reviewed in the Last Two Minute reports is revealing. All whistles are assessed, which would cause the accuracy on calls to skyrocket. Why? As per the NBA:\n",
    "\n",
    "`There must be clear and conclusive video evidence in order to make a determination that a play was incorrectly officiated`\n",
    "\n",
    "The NBA is restricting the number of `IC` due to this high burden of proof. Whistles are presumed to be correct and must meet the above criteria to be overturned. Additionally, personal take fouls are considered, which are essentially fouls for which the defense _intentionally fouls_ the opponent. For these reasons, the accuracy of officials on calls is likely inflated.\n",
    "\n",
    "Furthermore, non-calls also require this burden of proof, but non-calls are only considered for review when \"notable\" and:\n",
    "\n",
    "`Notable non-calls will generally be defined as material plays directly related to the outcome of a possession`\n",
    "\n",
    "First, the NBA has some discretion on which plays are considered here due to the inclusion of the word \"generally\" in the above. Because of this, the league can include or exclude calls to artificially boost accuracy and the performance on non-notable non-calls cannot be known from these reports. Second, officials are performing _worse_ on non-calls, which are, by definition, more material than the population of calls.\n",
    "\n",
    "Let's take a look at turnovers\n",
    "\n",
    "## Turnovers"
   ]
  },
  {
   "cell_type": "code",
   "execution_count": 16,
   "metadata": {},
   "outputs": [
    {
     "data": {
      "text/plain": [
       "Call Type                                 Review Decision\n",
       "Turnover:  Out of Bounds - Bad Pass Turn  CC                  65\n",
       "Turnover: 10 Second Violation                                  2\n",
       "Turnover: 24 Second Violation                                  1\n",
       "                                          CC                  42\n",
       "                                          CNC                  2\n",
       "                                                            ... \n",
       "Turnover: Traveling                                          108\n",
       "                                          CC                  24\n",
       "                                          CNC                116\n",
       "                                          IC                   6\n",
       "                                          INC                 62\n",
       "Name: Call Type, Length: 64, dtype: int64"
      ]
     },
     "execution_count": 16,
     "metadata": {},
     "output_type": "execute_result"
    }
   ],
   "source": [
    "to_df = l2m_df[l2m_df['Call Class']=='Turnover']\n",
    "to_df.groupby(['Call Type', 'Review Decision'])['Call Type'].count()"
   ]
  },
  {
   "cell_type": "code",
   "execution_count": 17,
   "metadata": {},
   "outputs": [
    {
     "data": {
      "text/html": [
       "<div>\n",
       "<style scoped>\n",
       "    .dataframe tbody tr th:only-of-type {\n",
       "        vertical-align: middle;\n",
       "    }\n",
       "\n",
       "    .dataframe tbody tr th {\n",
       "        vertical-align: top;\n",
       "    }\n",
       "\n",
       "    .dataframe thead th {\n",
       "        text-align: right;\n",
       "    }\n",
       "</style>\n",
       "<table border=\"1\" class=\"dataframe\">\n",
       "  <thead>\n",
       "    <tr style=\"text-align: right;\">\n",
       "      <th></th>\n",
       "      <th>Review Decision</th>\n",
       "      <th>count</th>\n",
       "    </tr>\n",
       "  </thead>\n",
       "  <tbody>\n",
       "    <tr>\n",
       "      <td>0</td>\n",
       "      <td></td>\n",
       "      <td>130</td>\n",
       "    </tr>\n",
       "    <tr>\n",
       "      <td>1</td>\n",
       "      <td>CC</td>\n",
       "      <td>219</td>\n",
       "    </tr>\n",
       "    <tr>\n",
       "      <td>2</td>\n",
       "      <td>CNC</td>\n",
       "      <td>253</td>\n",
       "    </tr>\n",
       "    <tr>\n",
       "      <td>3</td>\n",
       "      <td>IC</td>\n",
       "      <td>11</td>\n",
       "    </tr>\n",
       "    <tr>\n",
       "      <td>4</td>\n",
       "      <td>INC</td>\n",
       "      <td>109</td>\n",
       "    </tr>\n",
       "  </tbody>\n",
       "</table>\n",
       "</div>"
      ],
      "text/plain": [
       "  Review Decision  count\n",
       "0                    130\n",
       "1              CC    219\n",
       "2             CNC    253\n",
       "3              IC     11\n",
       "4             INC    109"
      ]
     },
     "execution_count": 17,
     "metadata": {},
     "output_type": "execute_result"
    }
   ],
   "source": [
    "type_df = pd.DataFrame(to_df.groupby('Review Decision')['Review Decision'].aggregate(['count'])).reset_index()\n",
    "type_df"
   ]
  },
  {
   "cell_type": "markdown",
   "metadata": {},
   "source": [
    "Alarmingly, a high number of plays fall into the category that were incorrectly officiated, but cannot be classified as such due to requiring technical support for the decision-making process. Consider the play below and navigate to the URL to view it."
   ]
  },
  {
   "cell_type": "code",
   "execution_count": 18,
   "metadata": {},
   "outputs": [
    {
     "data": {
      "text/plain": [
       "'[Observable in enhanced video] Jackson (DET) hops on the same foot after he has gathered the ball.'"
      ]
     },
     "execution_count": 18,
     "metadata": {},
     "output_type": "execute_result"
    }
   ],
   "source": [
    "to_df[to_df['Review Decision']==' ']['Comment'].iloc[50]"
   ]
  },
  {
   "cell_type": "code",
   "execution_count": 19,
   "metadata": {},
   "outputs": [
    {
     "data": {
      "text/plain": [
       "'http://official.nba.com/last-two-minute-report/?gameNo=0021800949&eventNum=1120'"
      ]
     },
     "execution_count": 19,
     "metadata": {},
     "output_type": "execute_result"
    }
   ],
   "source": [
    "to_df[to_df['Review Decision']==' ']['Video'].iloc[50]"
   ]
  },
  {
   "cell_type": "markdown",
   "metadata": {},
   "source": [
    "This travelling violation does not require enhanced video to be observed. While many of these plays probably require technial support to reach a decision, some do not and this seems like a bit of a safety valve to assign fewer incorrect calls or non-calls."
   ]
  },
  {
   "cell_type": "code",
   "execution_count": 20,
   "metadata": {},
   "outputs": [],
   "source": [
    "call_accuracy = (type_df[type_df['Review Decision']=='CC']['count'].iloc[0] /\n",
    "    (type_df[type_df['Review Decision']=='CC']['count'].iloc[0] + type_df[type_df['Review Decision']=='IC']['count'].iloc[0]))\n",
    "call_count = type_df[type_df['Review Decision']=='CC']['count'].iloc[0]\n",
    "call_sum = type_df[type_df['Review Decision']=='IC']['count'].iloc[0] + call_count\n",
    "\n",
    "noncall_accuracy = (type_df[type_df['Review Decision']=='CNC']['count'].iloc[0] /\n",
    "    (type_df[type_df['Review Decision']=='CNC']['count'].iloc[0] + type_df[type_df['Review Decision']=='INC']['count'].iloc[0]))\n",
    "noncall_count = type_df[type_df['Review Decision']=='CNC']['count'].iloc[0]\n",
    "noncall_sum = type_df[type_df['Review Decision']=='INC']['count'].iloc[0] + noncall_count"
   ]
  },
  {
   "cell_type": "code",
   "execution_count": 23,
   "metadata": {},
   "outputs": [
    {
     "data": {
      "image/png": "[encoded data removed]",
      "text/plain": [
       "<Figure size 432x576 with 1 Axes>"
      ]
     },
     "metadata": {
      "needs_background": "light"
     },
     "output_type": "display_data"
    }
   ],
   "source": [
    "fig = plt.figure(figsize=(6, 8))\n",
    "\n",
    "axis = fig.add_axes()\n",
    "\n",
    "bar_width_po = 0.9\n",
    "bar_width_league = 0.45\n",
    "\n",
    "# Adjusting the vertical locations of the horizontal bars to match with the axis tick labels\n",
    "hort_locations = np.arange(2)\n",
    "#hort_locations = [x + bar_height_po/2 for x in vert_locations]\n",
    "\n",
    "axis = fig.add_axes()\n",
    "\n",
    "plt.bar(x=hort_locations,\n",
    "        height=[call_sum, noncall_sum], width=bar_width_po,\n",
    "        color='black', label = 'All Decisions')\n",
    "plt.bar(x=hort_locations,\n",
    "        height=[call_count, noncall_count], width=bar_width_league,\n",
    "        color='lightgray', label = 'Correct Decisions')\n",
    "\n",
    "count = 0\n",
    "for perc, chal in zip([call_accuracy, noncall_accuracy], [call_sum, noncall_sum]):\n",
    "    plt.text(count-0.1, chal + 0.1, str(round(perc*100)) + '%')\n",
    "    count += 1\n",
    "\n",
    "plt.xticks(range(0, 2),\n",
    "           ['Calls', 'Non-Calls'],\n",
    "           rotation=0, fontsize=14)\n",
    "\n",
    "# plt.yticks(np.arange(0, max([call_sum, noncall_sum]) + 1, step=5))\n",
    "# for x in np.arange(0, max([call_sum, noncall_sum]) + 1, step=10):\n",
    "#     plt.axhline(x, linestyle='--', color='gray')\n",
    "plt.title(\"NBA Last Two Minute Potential Turnovers\", fontsize=16)\n",
    "plt.legend(loc='upper left')\n",
    "plt.show()"
   ]
  },
  {
   "cell_type": "markdown",
   "metadata": {},
   "source": [
    "Given the caveats above for these plays and the large number of plays deemed incorrectly officiated through technical support, it is no surprise that the accuracy on non-calls here is very low.\n",
    "\n",
    "\n",
    "## Exploration\n",
    "\n",
    "1. Can you think of any other dimensions through which this data can be visualized? Give it a try!\n",
    "2. Try changing the type of visualization and see if the potential takeaways change.\n",
    "3. Can you find any other takeaways from the figures besides those presented?"
   ]
  },
  {
   "cell_type": "code",
   "execution_count": null,
   "metadata": {},
   "outputs": [],
   "source": []
  }
 ],
 "metadata": {
  "kernelspec": {
   "display_name": "Python 3",
   "language": "python",
   "name": "python3"
  },
  "language_info": {
   "codemirror_mode": {
    "name": "ipython",
    "version": 3
   },
   "file_extension": ".py",
   "mimetype": "text/x-python",
   "name": "python",
   "nbconvert_exporter": "python",
   "pygments_lexer": "ipython3",
   "version": "3.7.7"
  }
 },
 "nbformat": 4,
 "nbformat_minor": 2
}
